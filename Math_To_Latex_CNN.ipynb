{
  "cells": [
    {
      "cell_type": "markdown",
      "metadata": {
        "id": "R5idVlsShBMx"
      },
      "source": [
        "\n",
        "Kaggle Dataset: https://www.kaggle.com/datasets/aidapearson/ocr-data?rvi=1\n",
        "\n",
        "Only use Batch 1 when building/testing model\n",
        "\n"
      ]
    },
    {
      "cell_type": "code",
      "execution_count": null,
      "metadata": {
        "colab": {
          "base_uri": "https://localhost:8080/"
        },
        "id": "6FMNUVt3b3_J",
        "outputId": "5a83290d-6644-4817-b02f-9e18093ab269"
      },
      "outputs": [
        {
          "name": "stdout",
          "output_type": "stream",
          "text": [
            "Collecting opendatasets\n",
            "  Downloading opendatasets-0.1.22-py3-none-any.whl (15 kB)\n",
            "Requirement already satisfied: tqdm in /usr/local/lib/python3.10/dist-packages (from opendatasets) (4.66.4)\n",
            "Requirement already satisfied: kaggle in /usr/local/lib/python3.10/dist-packages (from opendatasets) (1.6.12)\n",
            "Requirement already satisfied: click in /usr/local/lib/python3.10/dist-packages (from opendatasets) (8.1.7)\n",
            "Requirement already satisfied: six>=1.10 in /usr/local/lib/python3.10/dist-packages (from kaggle->opendatasets) (1.16.0)\n",
            "Requirement already satisfied: certifi>=2023.7.22 in /usr/local/lib/python3.10/dist-packages (from kaggle->opendatasets) (2024.2.2)\n",
            "Requirement already satisfied: python-dateutil in /usr/local/lib/python3.10/dist-packages (from kaggle->opendatasets) (2.8.2)\n",
            "Requirement already satisfied: requests in /usr/local/lib/python3.10/dist-packages (from kaggle->opendatasets) (2.31.0)\n",
            "Requirement already satisfied: python-slugify in /usr/local/lib/python3.10/dist-packages (from kaggle->opendatasets) (8.0.4)\n",
            "Requirement already satisfied: urllib3 in /usr/local/lib/python3.10/dist-packages (from kaggle->opendatasets) (2.0.7)\n",
            "Requirement already satisfied: bleach in /usr/local/lib/python3.10/dist-packages (from kaggle->opendatasets) (6.1.0)\n",
            "Requirement already satisfied: webencodings in /usr/local/lib/python3.10/dist-packages (from bleach->kaggle->opendatasets) (0.5.1)\n",
            "Requirement already satisfied: text-unidecode>=1.3 in /usr/local/lib/python3.10/dist-packages (from python-slugify->kaggle->opendatasets) (1.3)\n",
            "Requirement already satisfied: charset-normalizer<4,>=2 in /usr/local/lib/python3.10/dist-packages (from requests->kaggle->opendatasets) (3.3.2)\n",
            "Requirement already satisfied: idna<4,>=2.5 in /usr/local/lib/python3.10/dist-packages (from requests->kaggle->opendatasets) (3.7)\n",
            "Installing collected packages: opendatasets\n",
            "Successfully installed opendatasets-0.1.22\n"
          ]
        }
      ],
      "source": [
        "!pip install opendatasets"
      ]
    },
    {
      "cell_type": "code",
      "execution_count": null,
      "metadata": {
        "id": "oiFDisaWjtgj"
      },
      "outputs": [],
      "source": [
        "import opendatasets as ods"
      ]
    },
    {
      "cell_type": "code",
      "execution_count": null,
      "metadata": {
        "id": "eGgOYSuvb4eA"
      },
      "outputs": [],
      "source": [
        "import pandas as pd\n",
        "import numpy as np\n",
        "import matplotlib.pyplot as plt\n",
        "import seaborn as sns\n",
        "import json"
      ]
    },
    {
      "cell_type": "code",
      "execution_count": null,
      "metadata": {
        "colab": {
          "base_uri": "https://localhost:8080/"
        },
        "id": "rEFzlnMhb9LD",
        "outputId": "63e6ac6e-3805-46da-aaf4-6a7cd4180070"
      },
      "outputs": [
        {
          "name": "stdout",
          "output_type": "stream",
          "text": [
            "Please provide your Kaggle credentials to download this dataset. Learn more: http://bit.ly/kaggle-creds\n",
            "Your Kaggle username: tjcrouse\n",
            "Your Kaggle Key: ··········\n",
            "Dataset URL: https://www.kaggle.com/datasets/aidapearson/ocr-data\n",
            "Downloading ocr-data.zip to ./ocr-data\n"
          ]
        },
        {
          "name": "stderr",
          "output_type": "stream",
          "text": [
            "100%|██████████| 10.1G/10.1G [09:04<00:00, 19.9MB/s]\n"
          ]
        },
        {
          "name": "stdout",
          "output_type": "stream",
          "text": [
            "\n"
          ]
        }
      ],
      "source": [
        "ods.download('https://www.kaggle.com/datasets/aidapearson/ocr-data')"
      ]
    },
    {
      "cell_type": "code",
      "execution_count": null,
      "metadata": {
        "colab": {
          "base_uri": "https://localhost:8080/",
          "height": 590
        },
        "id": "R0afVC0tgFQc",
        "outputId": "d76e4077-006e-46cf-83a2-ea785312b0c0"
      },
      "outputs": [
        {
          "data": {
            "application/vnd.google.colaboratory.intrinsic+json": {
              "summary": "{\n  \"name\": \"# Add column to contain filenames of each individual\",\n  \"rows\": 5,\n  \"fields\": [\n    {\n      \"column\": \"latex\",\n      \"properties\": {\n        \"dtype\": \"string\",\n        \"num_unique_values\": 5,\n        \"samples\": [\n          \"\\\\lim_{w\\\\to\\\\pi/5^{-}}\\\\frac{\\\\tan^{2}{w}}{2\\\\frac{-4}{3w+\\\\left(-3\\\\pi\\\\right)^{4}}}\",\n          \"=\\\\lim_{x\\\\to8^{+}}\\\\frac{-9\\\\tan{x}\\\\sec^{1}{x}}{\\\\sin^{1}{x}+\\\\left(x\\\\tan{x}+3\\\\right)\\\\sin^{5}{x}}\",\n          \"e^{\\\\lim_{b\\\\to4^{+}}\\\\frac{\\\\frac{7}{b+3}}{\\\\cos{b}}}\"\n        ],\n        \"semantic_type\": \"\",\n        \"description\": \"\"\n      }\n    },\n    {\n      \"column\": \"filename\",\n      \"properties\": {\n        \"dtype\": \"string\",\n        \"num_unique_values\": 5,\n        \"samples\": [\n          \"e97b0b1f-08bf-4c2b-86cb-f264af2160df.jpg\",\n          \"da71ce9d-e1a1-4bb2-abce-77a29c45024f.jpg\",\n          \"3c72e1a1-c1de-4d67-a0ad-9f7afb6cee01.jpg\"\n        ],\n        \"semantic_type\": \"\",\n        \"description\": \"\"\n      }\n    },\n    {\n      \"column\": \"full_latex_chars\",\n      \"properties\": {\n        \"dtype\": \"object\",\n        \"semantic_type\": \"\",\n        \"description\": \"\"\n      }\n    },\n    {\n      \"column\": \"visible_latex_chars\",\n      \"properties\": {\n        \"dtype\": \"object\",\n        \"semantic_type\": \"\",\n        \"description\": \"\"\n      }\n    },\n    {\n      \"column\": \"visible_char_map\",\n      \"properties\": {\n        \"dtype\": \"object\",\n        \"semantic_type\": \"\",\n        \"description\": \"\"\n      }\n    },\n    {\n      \"column\": \"width\",\n      \"properties\": {\n        \"dtype\": \"number\",\n        \"std\": 690,\n        \"min\": 984,\n        \"max\": 2785,\n        \"num_unique_values\": 5,\n        \"samples\": [\n          1271,\n          1809,\n          984\n        ],\n        \"semantic_type\": \"\",\n        \"description\": \"\"\n      }\n    },\n    {\n      \"column\": \"height\",\n      \"properties\": {\n        \"dtype\": \"number\",\n        \"std\": 75,\n        \"min\": 334,\n        \"max\": 497,\n        \"num_unique_values\": 5,\n        \"samples\": [\n          473,\n          341,\n          381\n        ],\n        \"semantic_type\": \"\",\n        \"description\": \"\"\n      }\n    },\n    {\n      \"column\": \"depth\",\n      \"properties\": {\n        \"dtype\": \"number\",\n        \"std\": 0,\n        \"min\": 4,\n        \"max\": 4,\n        \"num_unique_values\": 1,\n        \"samples\": [\n          4\n        ],\n        \"semantic_type\": \"\",\n        \"description\": \"\"\n      }\n    },\n    {\n      \"column\": \"xmins\",\n      \"properties\": {\n        \"dtype\": \"object\",\n        \"semantic_type\": \"\",\n        \"description\": \"\"\n      }\n    },\n    {\n      \"column\": \"xmaxs\",\n      \"properties\": {\n        \"dtype\": \"object\",\n        \"semantic_type\": \"\",\n        \"description\": \"\"\n      }\n    },\n    {\n      \"column\": \"ymins\",\n      \"properties\": {\n        \"dtype\": \"object\",\n        \"semantic_type\": \"\",\n        \"description\": \"\"\n      }\n    },\n    {\n      \"column\": \"ymaxs\",\n      \"properties\": {\n        \"dtype\": \"object\",\n        \"semantic_type\": \"\",\n        \"description\": \"\"\n      }\n    },\n    {\n      \"column\": \"xmins_raw\",\n      \"properties\": {\n        \"dtype\": \"object\",\n        \"semantic_type\": \"\",\n        \"description\": \"\"\n      }\n    },\n    {\n      \"column\": \"xmaxs_raw\",\n      \"properties\": {\n        \"dtype\": \"object\",\n        \"semantic_type\": \"\",\n        \"description\": \"\"\n      }\n    },\n    {\n      \"column\": \"ymins_raw\",\n      \"properties\": {\n        \"dtype\": \"object\",\n        \"semantic_type\": \"\",\n        \"description\": \"\"\n      }\n    },\n    {\n      \"column\": \"ymaxs_raw\",\n      \"properties\": {\n        \"dtype\": \"object\",\n        \"semantic_type\": \"\",\n        \"description\": \"\"\n      }\n    },\n    {\n      \"column\": \"png_masks\",\n      \"properties\": {\n        \"dtype\": \"object\",\n        \"semantic_type\": \"\",\n        \"description\": \"\"\n      }\n    }\n  ]\n}",
              "type": "dataframe"
            },
            "text/html": [
              "\n",
              "  <div id=\"df-72ea216f-1841-41bf-ad0e-1419b6259d28\" class=\"colab-df-container\">\n",
              "    <div>\n",
              "<style scoped>\n",
              "    .dataframe tbody tr th:only-of-type {\n",
              "        vertical-align: middle;\n",
              "    }\n",
              "\n",
              "    .dataframe tbody tr th {\n",
              "        vertical-align: top;\n",
              "    }\n",
              "\n",
              "    .dataframe thead th {\n",
              "        text-align: right;\n",
              "    }\n",
              "</style>\n",
              "<table border=\"1\" class=\"dataframe\">\n",
              "  <thead>\n",
              "    <tr style=\"text-align: right;\">\n",
              "      <th></th>\n",
              "      <th>latex</th>\n",
              "      <th>filename</th>\n",
              "      <th>full_latex_chars</th>\n",
              "      <th>visible_latex_chars</th>\n",
              "      <th>visible_char_map</th>\n",
              "      <th>width</th>\n",
              "      <th>height</th>\n",
              "      <th>depth</th>\n",
              "      <th>xmins</th>\n",
              "      <th>xmaxs</th>\n",
              "      <th>ymins</th>\n",
              "      <th>ymaxs</th>\n",
              "      <th>xmins_raw</th>\n",
              "      <th>xmaxs_raw</th>\n",
              "      <th>ymins_raw</th>\n",
              "      <th>ymaxs_raw</th>\n",
              "      <th>png_masks</th>\n",
              "    </tr>\n",
              "  </thead>\n",
              "  <tbody>\n",
              "    <tr>\n",
              "      <th>0</th>\n",
              "      <td>\\lim_{a\\to\\frac{\\pi}{4}}\\frac{\\frac{d}{da}\\lef...</td>\n",
              "      <td>bd85ee85-2549-4539-9cd9-122d0ea3dca2.jpg</td>\n",
              "      <td>[\\lim_, {, a, \\to, \\frac, {, \\pi, }, {, 4, }, ...</td>\n",
              "      <td>[\\lim_, a, \\to, \\frac, \\pi, 4, \\frac, \\frac, d...</td>\n",
              "      <td>[71, 51, 75, 7, 18, 35, 7, 7, 54, 54, 51, 12, ...</td>\n",
              "      <td>1869</td>\n",
              "      <td>497</td>\n",
              "      <td>4</td>\n",
              "      <td>[0.0074946467, 0.0016059957, 0.0273019272, 0.0...</td>\n",
              "      <td>[0.1322269807, 0.0251605996, 0.0551391863, 0.1...</td>\n",
              "      <td>[0.25, 0.5786290323, 0.6370967742, 0.653225806...</td>\n",
              "      <td>[0.5060483871, 0.7076612903, 0.6794354839, 0.6...</td>\n",
              "      <td>[14, 3, 51, 134, 149, 160, 245, 332, 401, 369,...</td>\n",
              "      <td>[247, 47, 103, 261, 210, 210, 1866, 452, 461, ...</td>\n",
              "      <td>[124, 287, 316, 324, 268, 336, 230, 103, 1, 11...</td>\n",
              "      <td>[251, 351, 337, 333, 320, 399, 239, 113, 107, ...</td>\n",
              "      <td>[b'\\x89PNG\\r\\n\\x1a\\n\\x00\\x00\\x00\\rIHDR\\x00\\x00...</td>\n",
              "    </tr>\n",
              "    <tr>\n",
              "      <th>1</th>\n",
              "      <td>\\lim_{w\\to\\pi/5^{-}}\\frac{\\tan^{2}{w}}{2\\frac{...</td>\n",
              "      <td>e97b0b1f-08bf-4c2b-86cb-f264af2160df.jpg</td>\n",
              "      <td>[\\lim_, {, w, \\to, \\pi, /, 5, ^, {, -, }, }, \\...</td>\n",
              "      <td>[\\lim_, w, \\to, \\pi, /, 5, -, \\frac, \\tan, 2, ...</td>\n",
              "      <td>[71, 67, 75, 18, 30, 36, 28, 7, 80, 33, 67, 33...</td>\n",
              "      <td>1271</td>\n",
              "      <td>473</td>\n",
              "      <td>4</td>\n",
              "      <td>[0.1031496063, 0.0070866142, 0.0385826772, 0.0...</td>\n",
              "      <td>[0.242519685, 0.0377952756, 0.0763779528, 0.18...</td>\n",
              "      <td>[0.218220339, 0.7775423729, 0.7690677966, 0.52...</td>\n",
              "      <td>[0.4300847458, 0.8453389831, 0.8199152542, 0.7...</td>\n",
              "      <td>[131, 9, 49, 125, 252, 355, 385, 508, 663, 912...</td>\n",
              "      <td>[308, 48, 97, 237, 364, 379, 405, 1258, 864, 9...</td>\n",
              "      <td>[103, 367, 363, 247, 211, 353, 309, 172, 71, 2...</td>\n",
              "      <td>[203, 399, 387, 347, 403, 405, 315, 212, 194, ...</td>\n",
              "      <td>[b'\\x89PNG\\r\\n\\x1a\\n\\x00\\x00\\x00\\rIHDR\\x00\\x00...</td>\n",
              "    </tr>\n",
              "    <tr>\n",
              "      <th>2</th>\n",
              "      <td>e^{\\lim_{b\\to4^{+}}\\frac{\\frac{7}{b+3}}{\\cos{b}}}</td>\n",
              "      <td>3c72e1a1-c1de-4d67-a0ad-9f7afb6cee01.jpg</td>\n",
              "      <td>[e, ^, {, \\lim_, {, b, \\to, 4, ^, {, +, }, }, ...</td>\n",
              "      <td>[e, \\lim_, b, \\to, 4, +, \\frac, \\frac, 7, b, +...</td>\n",
              "      <td>[55, 71, 52, 75, 35, 26, 7, 7, 38, 52, 26, 34,...</td>\n",
              "      <td>984</td>\n",
              "      <td>381</td>\n",
              "      <td>4</td>\n",
              "      <td>[0.003051882, 0.1047812818, 0.3031536114, 0.37...</td>\n",
              "      <td>[0.0935910478, 0.2919633774, 0.3692777213, 0.4...</td>\n",
              "      <td>[0.6105263158, 0.2447368421, 0.6131578947, 0.7...</td>\n",
              "      <td>[0.9526315789, 0.6105263158, 0.8289473684, 0.8...</td>\n",
              "      <td>[3, 103, 298, 367, 461, 554, 721, 777, 824, 77...</td>\n",
              "      <td>[92, 287, 363, 442, 538, 628, 913, 928, 883, 8...</td>\n",
              "      <td>[232, 93, 233, 269, 212, 169, 187, 88, 1, 117,...</td>\n",
              "      <td>[362, 232, 315, 313, 305, 224, 194, 94, 80, 18...</td>\n",
              "      <td>[b'\\x89PNG\\r\\n\\x1a\\n\\x00\\x00\\x00\\rIHDR\\x00\\x00...</td>\n",
              "    </tr>\n",
              "    <tr>\n",
              "      <th>3</th>\n",
              "      <td>\\lim_{\\theta\\to\\pi/8}\\tan^{3}{\\theta}+\\lim_{\\t...</td>\n",
              "      <td>54459370-7cbe-423a-88bb-697d3864d12a.jpg</td>\n",
              "      <td>[\\lim_, {, \\theta, \\to, \\pi, /, 8, }, \\tan, ^,...</td>\n",
              "      <td>[\\lim_, \\theta, \\to, \\pi, /, 8, \\tan, 3, \\thet...</td>\n",
              "      <td>[71, 25, 75, 18, 30, 39, 80, 34, 25, 26, 71, 2...</td>\n",
              "      <td>2785</td>\n",
              "      <td>334</td>\n",
              "      <td>4</td>\n",
              "      <td>[0.0089798851, 0.1102729885, 0.1655890805, 0.1...</td>\n",
              "      <td>[0.1034482759, 0.1418821839, 0.1849856322, 0.2...</td>\n",
              "      <td>[0.3243243243, 0.7447447447, 0.8318318318, 0.4...</td>\n",
              "      <td>[0.7147147147, 0.987987988, 0.9309309309, 0.81...</td>\n",
              "      <td>[25, 307, 461, 553, 713, 799, 938, 1320, 1428,...</td>\n",
              "      <td>[288, 395, 515, 716, 789, 853, 1275, 1373, 157...</td>\n",
              "      <td>[108, 248, 277, 157, 130, 250, 78, 39, 48, 62,...</td>\n",
              "      <td>[238, 329, 310, 272, 306, 303, 198, 94, 170, 1...</td>\n",
              "      <td>[b'\\x89PNG\\r\\n\\x1a\\n\\x00\\x00\\x00\\rIHDR\\x00\\x00...</td>\n",
              "    </tr>\n",
              "    <tr>\n",
              "      <th>4</th>\n",
              "      <td>=\\lim_{x\\to8^{+}}\\frac{-9\\tan{x}\\sec^{1}{x}}{\\...</td>\n",
              "      <td>da71ce9d-e1a1-4bb2-abce-77a29c45024f.jpg</td>\n",
              "      <td>[=, \\lim_, {, x, \\to, 8, ^, {, +, }, }, \\frac,...</td>\n",
              "      <td>[=, \\lim_, x, \\to, 8, +, \\frac, -, 9, \\tan, x,...</td>\n",
              "      <td>[43, 71, 68, 75, 39, 26, 7, 28, 40, 80, 68, 77...</td>\n",
              "      <td>1809</td>\n",
              "      <td>341</td>\n",
              "      <td>4</td>\n",
              "      <td>[0.0027654867, 0.0636061947, 0.1825221239, 0.2...</td>\n",
              "      <td>[0.0276548673, 0.1631637168, 0.2024336283, 0.2...</td>\n",
              "      <td>[0.6882352941, 0.5852941176, 0.8411764706, 0.8...</td>\n",
              "      <td>[0.8323529412, 0.7882352941, 0.9617647059, 0.9...</td>\n",
              "      <td>[5, 115, 330, 375, 454, 502, 574, 897, 942, 10...</td>\n",
              "      <td>[50, 295, 366, 442, 502, 536, 1756, 936, 988, ...</td>\n",
              "      <td>[234, 199, 286, 281, 244, 202, 104, 133, 84, 1...</td>\n",
              "      <td>[283, 268, 327, 309, 306, 239, 220, 147, 159, ...</td>\n",
              "      <td>[b'\\x89PNG\\r\\n\\x1a\\n\\x00\\x00\\x00\\rIHDR\\x00\\x00...</td>\n",
              "    </tr>\n",
              "  </tbody>\n",
              "</table>\n",
              "</div>\n",
              "    <div class=\"colab-df-buttons\">\n",
              "\n",
              "  <div class=\"colab-df-container\">\n",
              "    <button class=\"colab-df-convert\" onclick=\"convertToInteractive('df-72ea216f-1841-41bf-ad0e-1419b6259d28')\"\n",
              "            title=\"Convert this dataframe to an interactive table.\"\n",
              "            style=\"display:none;\">\n",
              "\n",
              "  <svg xmlns=\"http://www.w3.org/2000/svg\" height=\"24px\" viewBox=\"0 -960 960 960\">\n",
              "    <path d=\"M120-120v-720h720v720H120Zm60-500h600v-160H180v160Zm220 220h160v-160H400v160Zm0 220h160v-160H400v160ZM180-400h160v-160H180v160Zm440 0h160v-160H620v160ZM180-180h160v-160H180v160Zm440 0h160v-160H620v160Z\"/>\n",
              "  </svg>\n",
              "    </button>\n",
              "\n",
              "  <style>\n",
              "    .colab-df-container {\n",
              "      display:flex;\n",
              "      gap: 12px;\n",
              "    }\n",
              "\n",
              "    .colab-df-convert {\n",
              "      background-color: #E8F0FE;\n",
              "      border: none;\n",
              "      border-radius: 50%;\n",
              "      cursor: pointer;\n",
              "      display: none;\n",
              "      fill: #1967D2;\n",
              "      height: 32px;\n",
              "      padding: 0 0 0 0;\n",
              "      width: 32px;\n",
              "    }\n",
              "\n",
              "    .colab-df-convert:hover {\n",
              "      background-color: #E2EBFA;\n",
              "      box-shadow: 0px 1px 2px rgba(60, 64, 67, 0.3), 0px 1px 3px 1px rgba(60, 64, 67, 0.15);\n",
              "      fill: #174EA6;\n",
              "    }\n",
              "\n",
              "    .colab-df-buttons div {\n",
              "      margin-bottom: 4px;\n",
              "    }\n",
              "\n",
              "    [theme=dark] .colab-df-convert {\n",
              "      background-color: #3B4455;\n",
              "      fill: #D2E3FC;\n",
              "    }\n",
              "\n",
              "    [theme=dark] .colab-df-convert:hover {\n",
              "      background-color: #434B5C;\n",
              "      box-shadow: 0px 1px 3px 1px rgba(0, 0, 0, 0.15);\n",
              "      filter: drop-shadow(0px 1px 2px rgba(0, 0, 0, 0.3));\n",
              "      fill: #FFFFFF;\n",
              "    }\n",
              "  </style>\n",
              "\n",
              "    <script>\n",
              "      const buttonEl =\n",
              "        document.querySelector('#df-72ea216f-1841-41bf-ad0e-1419b6259d28 button.colab-df-convert');\n",
              "      buttonEl.style.display =\n",
              "        google.colab.kernel.accessAllowed ? 'block' : 'none';\n",
              "\n",
              "      async function convertToInteractive(key) {\n",
              "        const element = document.querySelector('#df-72ea216f-1841-41bf-ad0e-1419b6259d28');\n",
              "        const dataTable =\n",
              "          await google.colab.kernel.invokeFunction('convertToInteractive',\n",
              "                                                    [key], {});\n",
              "        if (!dataTable) return;\n",
              "\n",
              "        const docLinkHtml = 'Like what you see? Visit the ' +\n",
              "          '<a target=\"_blank\" href=https://colab.research.google.com/notebooks/data_table.ipynb>data table notebook</a>'\n",
              "          + ' to learn more about interactive tables.';\n",
              "        element.innerHTML = '';\n",
              "        dataTable['output_type'] = 'display_data';\n",
              "        await google.colab.output.renderOutput(dataTable, element);\n",
              "        const docLink = document.createElement('div');\n",
              "        docLink.innerHTML = docLinkHtml;\n",
              "        element.appendChild(docLink);\n",
              "      }\n",
              "    </script>\n",
              "  </div>\n",
              "\n",
              "\n",
              "<div id=\"df-4c840953-0696-4fa0-bd91-7ae44ad8393b\">\n",
              "  <button class=\"colab-df-quickchart\" onclick=\"quickchart('df-4c840953-0696-4fa0-bd91-7ae44ad8393b')\"\n",
              "            title=\"Suggest charts\"\n",
              "            style=\"display:none;\">\n",
              "\n",
              "<svg xmlns=\"http://www.w3.org/2000/svg\" height=\"24px\"viewBox=\"0 0 24 24\"\n",
              "     width=\"24px\">\n",
              "    <g>\n",
              "        <path d=\"M19 3H5c-1.1 0-2 .9-2 2v14c0 1.1.9 2 2 2h14c1.1 0 2-.9 2-2V5c0-1.1-.9-2-2-2zM9 17H7v-7h2v7zm4 0h-2V7h2v10zm4 0h-2v-4h2v4z\"/>\n",
              "    </g>\n",
              "</svg>\n",
              "  </button>\n",
              "\n",
              "<style>\n",
              "  .colab-df-quickchart {\n",
              "      --bg-color: #E8F0FE;\n",
              "      --fill-color: #1967D2;\n",
              "      --hover-bg-color: #E2EBFA;\n",
              "      --hover-fill-color: #174EA6;\n",
              "      --disabled-fill-color: #AAA;\n",
              "      --disabled-bg-color: #DDD;\n",
              "  }\n",
              "\n",
              "  [theme=dark] .colab-df-quickchart {\n",
              "      --bg-color: #3B4455;\n",
              "      --fill-color: #D2E3FC;\n",
              "      --hover-bg-color: #434B5C;\n",
              "      --hover-fill-color: #FFFFFF;\n",
              "      --disabled-bg-color: #3B4455;\n",
              "      --disabled-fill-color: #666;\n",
              "  }\n",
              "\n",
              "  .colab-df-quickchart {\n",
              "    background-color: var(--bg-color);\n",
              "    border: none;\n",
              "    border-radius: 50%;\n",
              "    cursor: pointer;\n",
              "    display: none;\n",
              "    fill: var(--fill-color);\n",
              "    height: 32px;\n",
              "    padding: 0;\n",
              "    width: 32px;\n",
              "  }\n",
              "\n",
              "  .colab-df-quickchart:hover {\n",
              "    background-color: var(--hover-bg-color);\n",
              "    box-shadow: 0 1px 2px rgba(60, 64, 67, 0.3), 0 1px 3px 1px rgba(60, 64, 67, 0.15);\n",
              "    fill: var(--button-hover-fill-color);\n",
              "  }\n",
              "\n",
              "  .colab-df-quickchart-complete:disabled,\n",
              "  .colab-df-quickchart-complete:disabled:hover {\n",
              "    background-color: var(--disabled-bg-color);\n",
              "    fill: var(--disabled-fill-color);\n",
              "    box-shadow: none;\n",
              "  }\n",
              "\n",
              "  .colab-df-spinner {\n",
              "    border: 2px solid var(--fill-color);\n",
              "    border-color: transparent;\n",
              "    border-bottom-color: var(--fill-color);\n",
              "    animation:\n",
              "      spin 1s steps(1) infinite;\n",
              "  }\n",
              "\n",
              "  @keyframes spin {\n",
              "    0% {\n",
              "      border-color: transparent;\n",
              "      border-bottom-color: var(--fill-color);\n",
              "      border-left-color: var(--fill-color);\n",
              "    }\n",
              "    20% {\n",
              "      border-color: transparent;\n",
              "      border-left-color: var(--fill-color);\n",
              "      border-top-color: var(--fill-color);\n",
              "    }\n",
              "    30% {\n",
              "      border-color: transparent;\n",
              "      border-left-color: var(--fill-color);\n",
              "      border-top-color: var(--fill-color);\n",
              "      border-right-color: var(--fill-color);\n",
              "    }\n",
              "    40% {\n",
              "      border-color: transparent;\n",
              "      border-right-color: var(--fill-color);\n",
              "      border-top-color: var(--fill-color);\n",
              "    }\n",
              "    60% {\n",
              "      border-color: transparent;\n",
              "      border-right-color: var(--fill-color);\n",
              "    }\n",
              "    80% {\n",
              "      border-color: transparent;\n",
              "      border-right-color: var(--fill-color);\n",
              "      border-bottom-color: var(--fill-color);\n",
              "    }\n",
              "    90% {\n",
              "      border-color: transparent;\n",
              "      border-bottom-color: var(--fill-color);\n",
              "    }\n",
              "  }\n",
              "</style>\n",
              "\n",
              "  <script>\n",
              "    async function quickchart(key) {\n",
              "      const quickchartButtonEl =\n",
              "        document.querySelector('#' + key + ' button');\n",
              "      quickchartButtonEl.disabled = true;  // To prevent multiple clicks.\n",
              "      quickchartButtonEl.classList.add('colab-df-spinner');\n",
              "      try {\n",
              "        const charts = await google.colab.kernel.invokeFunction(\n",
              "            'suggestCharts', [key], {});\n",
              "      } catch (error) {\n",
              "        console.error('Error during call to suggestCharts:', error);\n",
              "      }\n",
              "      quickchartButtonEl.classList.remove('colab-df-spinner');\n",
              "      quickchartButtonEl.classList.add('colab-df-quickchart-complete');\n",
              "    }\n",
              "    (() => {\n",
              "      let quickchartButtonEl =\n",
              "        document.querySelector('#df-4c840953-0696-4fa0-bd91-7ae44ad8393b button');\n",
              "      quickchartButtonEl.style.display =\n",
              "        google.colab.kernel.accessAllowed ? 'block' : 'none';\n",
              "    })();\n",
              "  </script>\n",
              "</div>\n",
              "    </div>\n",
              "  </div>\n"
            ],
            "text/plain": [
              "                                               latex  \\\n",
              "0  \\lim_{a\\to\\frac{\\pi}{4}}\\frac{\\frac{d}{da}\\lef...   \n",
              "1  \\lim_{w\\to\\pi/5^{-}}\\frac{\\tan^{2}{w}}{2\\frac{...   \n",
              "2  e^{\\lim_{b\\to4^{+}}\\frac{\\frac{7}{b+3}}{\\cos{b}}}   \n",
              "3  \\lim_{\\theta\\to\\pi/8}\\tan^{3}{\\theta}+\\lim_{\\t...   \n",
              "4  =\\lim_{x\\to8^{+}}\\frac{-9\\tan{x}\\sec^{1}{x}}{\\...   \n",
              "\n",
              "                                   filename  \\\n",
              "0  bd85ee85-2549-4539-9cd9-122d0ea3dca2.jpg   \n",
              "1  e97b0b1f-08bf-4c2b-86cb-f264af2160df.jpg   \n",
              "2  3c72e1a1-c1de-4d67-a0ad-9f7afb6cee01.jpg   \n",
              "3  54459370-7cbe-423a-88bb-697d3864d12a.jpg   \n",
              "4  da71ce9d-e1a1-4bb2-abce-77a29c45024f.jpg   \n",
              "\n",
              "                                    full_latex_chars  \\\n",
              "0  [\\lim_, {, a, \\to, \\frac, {, \\pi, }, {, 4, }, ...   \n",
              "1  [\\lim_, {, w, \\to, \\pi, /, 5, ^, {, -, }, }, \\...   \n",
              "2  [e, ^, {, \\lim_, {, b, \\to, 4, ^, {, +, }, }, ...   \n",
              "3  [\\lim_, {, \\theta, \\to, \\pi, /, 8, }, \\tan, ^,...   \n",
              "4  [=, \\lim_, {, x, \\to, 8, ^, {, +, }, }, \\frac,...   \n",
              "\n",
              "                                 visible_latex_chars  \\\n",
              "0  [\\lim_, a, \\to, \\frac, \\pi, 4, \\frac, \\frac, d...   \n",
              "1  [\\lim_, w, \\to, \\pi, /, 5, -, \\frac, \\tan, 2, ...   \n",
              "2  [e, \\lim_, b, \\to, 4, +, \\frac, \\frac, 7, b, +...   \n",
              "3  [\\lim_, \\theta, \\to, \\pi, /, 8, \\tan, 3, \\thet...   \n",
              "4  [=, \\lim_, x, \\to, 8, +, \\frac, -, 9, \\tan, x,...   \n",
              "\n",
              "                                    visible_char_map  width  height  depth  \\\n",
              "0  [71, 51, 75, 7, 18, 35, 7, 7, 54, 54, 51, 12, ...   1869     497      4   \n",
              "1  [71, 67, 75, 18, 30, 36, 28, 7, 80, 33, 67, 33...   1271     473      4   \n",
              "2  [55, 71, 52, 75, 35, 26, 7, 7, 38, 52, 26, 34,...    984     381      4   \n",
              "3  [71, 25, 75, 18, 30, 39, 80, 34, 25, 26, 71, 2...   2785     334      4   \n",
              "4  [43, 71, 68, 75, 39, 26, 7, 28, 40, 80, 68, 77...   1809     341      4   \n",
              "\n",
              "                                               xmins  \\\n",
              "0  [0.0074946467, 0.0016059957, 0.0273019272, 0.0...   \n",
              "1  [0.1031496063, 0.0070866142, 0.0385826772, 0.0...   \n",
              "2  [0.003051882, 0.1047812818, 0.3031536114, 0.37...   \n",
              "3  [0.0089798851, 0.1102729885, 0.1655890805, 0.1...   \n",
              "4  [0.0027654867, 0.0636061947, 0.1825221239, 0.2...   \n",
              "\n",
              "                                               xmaxs  \\\n",
              "0  [0.1322269807, 0.0251605996, 0.0551391863, 0.1...   \n",
              "1  [0.242519685, 0.0377952756, 0.0763779528, 0.18...   \n",
              "2  [0.0935910478, 0.2919633774, 0.3692777213, 0.4...   \n",
              "3  [0.1034482759, 0.1418821839, 0.1849856322, 0.2...   \n",
              "4  [0.0276548673, 0.1631637168, 0.2024336283, 0.2...   \n",
              "\n",
              "                                               ymins  \\\n",
              "0  [0.25, 0.5786290323, 0.6370967742, 0.653225806...   \n",
              "1  [0.218220339, 0.7775423729, 0.7690677966, 0.52...   \n",
              "2  [0.6105263158, 0.2447368421, 0.6131578947, 0.7...   \n",
              "3  [0.3243243243, 0.7447447447, 0.8318318318, 0.4...   \n",
              "4  [0.6882352941, 0.5852941176, 0.8411764706, 0.8...   \n",
              "\n",
              "                                               ymaxs  \\\n",
              "0  [0.5060483871, 0.7076612903, 0.6794354839, 0.6...   \n",
              "1  [0.4300847458, 0.8453389831, 0.8199152542, 0.7...   \n",
              "2  [0.9526315789, 0.6105263158, 0.8289473684, 0.8...   \n",
              "3  [0.7147147147, 0.987987988, 0.9309309309, 0.81...   \n",
              "4  [0.8323529412, 0.7882352941, 0.9617647059, 0.9...   \n",
              "\n",
              "                                           xmins_raw  \\\n",
              "0  [14, 3, 51, 134, 149, 160, 245, 332, 401, 369,...   \n",
              "1  [131, 9, 49, 125, 252, 355, 385, 508, 663, 912...   \n",
              "2  [3, 103, 298, 367, 461, 554, 721, 777, 824, 77...   \n",
              "3  [25, 307, 461, 553, 713, 799, 938, 1320, 1428,...   \n",
              "4  [5, 115, 330, 375, 454, 502, 574, 897, 942, 10...   \n",
              "\n",
              "                                           xmaxs_raw  \\\n",
              "0  [247, 47, 103, 261, 210, 210, 1866, 452, 461, ...   \n",
              "1  [308, 48, 97, 237, 364, 379, 405, 1258, 864, 9...   \n",
              "2  [92, 287, 363, 442, 538, 628, 913, 928, 883, 8...   \n",
              "3  [288, 395, 515, 716, 789, 853, 1275, 1373, 157...   \n",
              "4  [50, 295, 366, 442, 502, 536, 1756, 936, 988, ...   \n",
              "\n",
              "                                           ymins_raw  \\\n",
              "0  [124, 287, 316, 324, 268, 336, 230, 103, 1, 11...   \n",
              "1  [103, 367, 363, 247, 211, 353, 309, 172, 71, 2...   \n",
              "2  [232, 93, 233, 269, 212, 169, 187, 88, 1, 117,...   \n",
              "3  [108, 248, 277, 157, 130, 250, 78, 39, 48, 62,...   \n",
              "4  [234, 199, 286, 281, 244, 202, 104, 133, 84, 1...   \n",
              "\n",
              "                                           ymaxs_raw  \\\n",
              "0  [251, 351, 337, 333, 320, 399, 239, 113, 107, ...   \n",
              "1  [203, 399, 387, 347, 403, 405, 315, 212, 194, ...   \n",
              "2  [362, 232, 315, 313, 305, 224, 194, 94, 80, 18...   \n",
              "3  [238, 329, 310, 272, 306, 303, 198, 94, 170, 1...   \n",
              "4  [283, 268, 327, 309, 306, 239, 220, 147, 159, ...   \n",
              "\n",
              "                                           png_masks  \n",
              "0  [b'\\x89PNG\\r\\n\\x1a\\n\\x00\\x00\\x00\\rIHDR\\x00\\x00...  \n",
              "1  [b'\\x89PNG\\r\\n\\x1a\\n\\x00\\x00\\x00\\rIHDR\\x00\\x00...  \n",
              "2  [b'\\x89PNG\\r\\n\\x1a\\n\\x00\\x00\\x00\\rIHDR\\x00\\x00...  \n",
              "3  [b'\\x89PNG\\r\\n\\x1a\\n\\x00\\x00\\x00\\rIHDR\\x00\\x00...  \n",
              "4  [b'\\x89PNG\\r\\n\\x1a\\n\\x00\\x00\\x00\\rIHDR\\x00\\x00...  "
            ]
          },
          "execution_count": 7,
          "metadata": {},
          "output_type": "execute_result"
        }
      ],
      "source": [
        "# Load batch 1\n",
        "d = json.load(open('/content/ocr-data/batch_1/JSON/kaggle_data_1.json'))\n",
        "# Normalize each item into one DataFrame row\n",
        "df = pd.json_normalize(d)\n",
        "# Remove unneeded columns\n",
        "df = df.drop([\"uuid\", \"unicode_str\", \"unicode_less_curlies\", \"font\"], axis=\"columns\")\n",
        "#  Rename image data columns\n",
        "df.columns = df.columns.str.removeprefix(\"image_data.\")\n",
        "df.head()\n",
        "# df.info()\n",
        "\n",
        "# Add column to contain filenames of each individual"
      ]
    },
    {
      "cell_type": "markdown",
      "metadata": {
        "id": "qAPMasHG0Kif"
      },
      "source": [
        "Questions to consider:\n",
        "\n",
        "\n",
        "*  How many pixels are in each character?\n",
        "    * For each image, we can find the largest individual character/symbol and pass the number of pixels as the first layer of the NN. For the smaller characters, we can fill the blank pixels as \"white\" (or whatever value represents the lack of a pencil stroke)\n",
        "    * **Actually, each image is already normalized, so we may not need the above method**\n",
        "*   How many layers will our NN have?\n",
        "    * 2, or 3?\n",
        "*  How many outputs will the NN have? (Numbers, symbols, etc...)\n",
        "\n"
      ]
    },
    {
      "cell_type": "code",
      "execution_count": null,
      "metadata": {
        "id": "P4Lf6teUrlw6"
      },
      "outputs": [],
      "source": [
        "import tensorflow as tf\n",
        "from tensorflow.keras import datasets, layers, models"
      ]
    },
    {
      "cell_type": "code",
      "execution_count": null,
      "metadata": {
        "id": "qFCnKYWhPbuo"
      },
      "outputs": [],
      "source": [
        "from io import BytesIO\n",
        "from PIL import Image\n",
        "\n",
        "def apply_mask_and_crop(mask_bytes_literal, bounding_box):\n",
        "  # Decode the mask bytes literal to a PIL Image object\n",
        "  mask_image = Image.open(BytesIO(eval(mask_bytes_literal)))\n",
        "  # Crop the image to the bounding box and return\n",
        "  return mask_image.crop((bounding_box[0], bounding_box[1], bounding_box[2], bounding_box[3]))\n",
        "\n",
        "def get_individual_element_images(row):\n",
        "    # Get the number of images\n",
        "    num_images = len(row.loc['png_masks'])\n",
        "    image_arrays = []\n",
        "    # Loop through each image\n",
        "    image_masks = row.loc['png_masks']\n",
        "    for i in range(num_images):\n",
        "        # Get this character's bounding box\n",
        "        bounding_box = [\n",
        "            row.loc['xmins_raw'][i],\n",
        "            row.loc['ymins_raw'][i],\n",
        "            row.loc['xmaxs_raw'][i],\n",
        "            row.loc['ymaxs_raw'][i]\n",
        "        ]\n",
        "        # Apply the mask and crop\n",
        "        result_image = apply_mask_and_crop(image_masks[i], bounding_box)\n",
        "        # Resize image to be no larger than 32x32 pixels\n",
        "        result_image.thumbnail((32,32), Image.ANTIALIAS)\n",
        "        height = round((32 - result_image.height) / 2)\n",
        "        width = round((32 - result_image.width) / 2)\n",
        "        # Paste black pixels around the image to make it exactly 32x32\n",
        "        result = Image.new(result_image.mode, (32, 32))\n",
        "        result.paste(result_image, (width, height))\n",
        "        # Convert the image to a NumPy array\n",
        "        image_array = np.array(result)\n",
        "        image_arrays.append(image_array)\n",
        "    return image_arrays\n",
        "\n",
        "# get_individual_element_images(df.iloc[0,:])"
      ]
    },
    {
      "cell_type": "code",
      "execution_count": null,
      "metadata": {
        "id": "MpwjPrFsrbEj"
      },
      "outputs": [],
      "source": [
        "# TEST WITH 1000 IMAGES\n",
        "# df = df.iloc[0:1000, :]"
      ]
    },
    {
      "cell_type": "code",
      "execution_count": null,
      "metadata": {
        "id": "1FdcY7P3dKLG"
      },
      "outputs": [],
      "source": [
        "from sklearn.model_selection import train_test_split\n",
        "X = df.drop('visible_char_map',axis=1)\n",
        "y = df['visible_char_map']\n",
        "train_data, test_data, train_label, test_label = train_test_split(X,y, test_size = 0.2, random_state=123)"
      ]
    },
    {
      "cell_type": "code",
      "execution_count": null,
      "metadata": {
        "colab": {
          "base_uri": "https://localhost:8080/"
        },
        "id": "hUC8Cv-csrLW",
        "outputId": "aadc14af-0c6f-401a-839d-3abfeecba489"
      },
      "outputs": [
        {
          "name": "stdout",
          "output_type": "stream",
          "text": [
            "8000\n"
          ]
        }
      ],
      "source": [
        "print(len(train_data))"
      ]
    },
    {
      "cell_type": "code",
      "execution_count": null,
      "metadata": {
        "colab": {
          "base_uri": "https://localhost:8080/"
        },
        "id": "oWN08pGgyMtd",
        "outputId": "3f2fefa0-0646-4bb1-9755-021882f5b7a6"
      },
      "outputs": [
        {
          "name": "stderr",
          "output_type": "stream",
          "text": [
            "<ipython-input-9-4008ffa612c5>:27: DeprecationWarning: ANTIALIAS is deprecated and will be removed in Pillow 10 (2023-07-01). Use LANCZOS or Resampling.LANCZOS instead.\n",
            "  result_image.thumbnail((32,32), Image.ANTIALIAS)\n"
          ]
        }
      ],
      "source": [
        "train_images = []\n",
        "train_labels = []\n",
        "for i in range(len(train_data)):\n",
        "  train_images.extend(get_individual_element_images(train_data.iloc[i,:]))\n",
        "  train_labels.extend(train_data.iloc[i,3])   # add visible_latex_chars as labels"
      ]
    },
    {
      "cell_type": "code",
      "execution_count": null,
      "metadata": {
        "id": "zQ7v7Qr2tlUt"
      },
      "outputs": [],
      "source": [
        "# train_images = [tf.image.resize(image, [32,32]) for image in train_images]"
      ]
    },
    {
      "cell_type": "code",
      "execution_count": null,
      "metadata": {
        "colab": {
          "base_uri": "https://localhost:8080/"
        },
        "id": "cMz_7Ef90j1W",
        "outputId": "f5a172fa-5a6f-49bd-b49e-17650bc897a0"
      },
      "outputs": [
        {
          "name": "stderr",
          "output_type": "stream",
          "text": [
            "<ipython-input-9-4008ffa612c5>:27: DeprecationWarning: ANTIALIAS is deprecated and will be removed in Pillow 10 (2023-07-01). Use LANCZOS or Resampling.LANCZOS instead.\n",
            "  result_image.thumbnail((32,32), Image.ANTIALIAS)\n"
          ]
        }
      ],
      "source": [
        "test_images = []\n",
        "test_labels = []\n",
        "for i in range(len(test_data)):\n",
        "  test_images.extend(get_individual_element_images(test_data.iloc[i,:]))\n",
        "  test_labels.extend(test_data.iloc[i,3])   # add visible_latex_chars as labels"
      ]
    },
    {
      "cell_type": "code",
      "execution_count": null,
      "metadata": {
        "id": "1cyNVAP-t_8y"
      },
      "outputs": [],
      "source": [
        "# test_images = [tf.image.resize(image, [32,32]) for image in test_images]"
      ]
    },
    {
      "cell_type": "code",
      "execution_count": null,
      "metadata": {
        "id": "cpL2lLHxzUsl"
      },
      "outputs": [],
      "source": [
        "char_map = json.load(open('/content/ocr-data/extras/visible_char_map.json'))"
      ]
    },
    {
      "cell_type": "code",
      "execution_count": null,
      "metadata": {
        "id": "gXgVDAra4jNd"
      },
      "outputs": [],
      "source": [
        "train_labels = np.array([char_map[elt] for elt in train_labels])\n",
        "test_labels = np.array([char_map[elt] for elt in test_labels])\n",
        "\n",
        "train_images = np.array(train_images)\n",
        "test_images = np.array(test_images)"
      ]
    },
    {
      "cell_type": "code",
      "execution_count": null,
      "metadata": {
        "colab": {
          "base_uri": "https://localhost:8080/"
        },
        "id": "RT0K1VaI5qYg",
        "outputId": "6eed3146-6918-4b60-9650-f9863dd98389"
      },
      "outputs": [
        {
          "name": "stdout",
          "output_type": "stream",
          "text": [
            "(32, 32)\n",
            "(32, 32)\n",
            "(32, 32)\n"
          ]
        }
      ],
      "source": [
        "print(train_images[0].shape)\n",
        "print(train_images[1].shape)\n",
        "print(train_images[2].shape)"
      ]
    },
    {
      "cell_type": "code",
      "execution_count": null,
      "metadata": {
        "id": "x_kKqcpjbtv2"
      },
      "outputs": [],
      "source": [
        "model = models.Sequential()\n",
        "model.add(layers.Conv2D(32, (3, 3), activation='relu', input_shape=(32, 32, 1)))\n",
        "model.add(layers.MaxPooling2D((2, 2)))\n",
        "model.add(layers.Conv2D(64, (3, 3), activation='relu'))\n",
        "model.add(layers.MaxPooling2D((2, 2)))\n",
        "model.add(layers.Conv2D(64, (3, 3), activation='relu'))\n",
        "model.add(layers.Flatten())\n",
        "model.add(layers.Dense(64, activation='relu'))\n",
        "model.add(layers.Dense(91))"
      ]
    },
    {
      "cell_type": "code",
      "execution_count": null,
      "metadata": {
        "colab": {
          "base_uri": "https://localhost:8080/"
        },
        "id": "5_45s-CteUt8",
        "outputId": "ca46b70e-16b3-4807-cc67-faf97ac1f1fd"
      },
      "outputs": [
        {
          "name": "stdout",
          "output_type": "stream",
          "text": [
            "Epoch 1/10\n",
            "4796/4796 [==============================] - 29s 5ms/step - loss: 0.3906 - accuracy: 0.8847 - val_loss: 0.2401 - val_accuracy: 0.9157\n",
            "Epoch 2/10\n",
            "4796/4796 [==============================] - 26s 5ms/step - loss: 0.1630 - accuracy: 0.9443 - val_loss: 0.1709 - val_accuracy: 0.9397\n",
            "Epoch 3/10\n",
            "4796/4796 [==============================] - 25s 5ms/step - loss: 0.1254 - accuracy: 0.9556 - val_loss: 0.1500 - val_accuracy: 0.9468\n",
            "Epoch 4/10\n",
            "4796/4796 [==============================] - 25s 5ms/step - loss: 0.1048 - accuracy: 0.9626 - val_loss: 0.1349 - val_accuracy: 0.9541\n",
            "Epoch 5/10\n",
            "4796/4796 [==============================] - 25s 5ms/step - loss: 0.0917 - accuracy: 0.9673 - val_loss: 0.1313 - val_accuracy: 0.9573\n",
            "Epoch 6/10\n",
            "4796/4796 [==============================] - 25s 5ms/step - loss: 0.0815 - accuracy: 0.9708 - val_loss: 0.1337 - val_accuracy: 0.9568\n",
            "Epoch 7/10\n",
            "4796/4796 [==============================] - 27s 6ms/step - loss: 0.0749 - accuracy: 0.9724 - val_loss: 0.1439 - val_accuracy: 0.9565\n",
            "Epoch 8/10\n",
            "4796/4796 [==============================] - 29s 6ms/step - loss: 0.0675 - accuracy: 0.9749 - val_loss: 0.1334 - val_accuracy: 0.9594\n",
            "Epoch 9/10\n",
            "4796/4796 [==============================] - 25s 5ms/step - loss: 0.0629 - accuracy: 0.9763 - val_loss: 0.1336 - val_accuracy: 0.9601\n",
            "Epoch 10/10\n",
            "4796/4796 [==============================] - 24s 5ms/step - loss: 0.0595 - accuracy: 0.9772 - val_loss: 0.1423 - val_accuracy: 0.9580\n"
          ]
        }
      ],
      "source": [
        "model.compile(optimizer='adam',\n",
        "              loss=tf.keras.losses.SparseCategoricalCrossentropy(from_logits=True),\n",
        "              metrics=['accuracy'])\n",
        "\n",
        "history = model.fit(train_images, train_labels, epochs=10,\n",
        "                    validation_data=(test_images, test_labels))"
      ]
    },
    {
      "cell_type": "code",
      "execution_count": null,
      "metadata": {
        "colab": {
          "base_uri": "https://localhost:8080/",
          "height": 489
        },
        "id": "y6zmz-ZRGUJn",
        "outputId": "ad4a7d7d-4557-4fd9-f001-a56c9c0f0b61"
      },
      "outputs": [
        {
          "name": "stdout",
          "output_type": "stream",
          "text": [
            "1194/1194 - 2s - loss: 0.1423 - accuracy: 0.9580 - 2s/epoch - 2ms/step\n"
          ]
        },
        {
          "data": {
            "image/png": "[encoded data removed]",
            "text/plain": [
              "<Figure size 640x480 with 1 Axes>"
            ]
          },
          "metadata": {},
          "output_type": "display_data"
        }
      ],
      "source": [
        "plt.plot(history.history['accuracy'], label='accuracy')\n",
        "plt.plot(history.history['val_accuracy'], label = 'val_accuracy')\n",
        "plt.xlabel('Epoch')\n",
        "plt.ylabel('Accuracy')\n",
        "plt.ylim([0.85, 1])\n",
        "plt.legend(loc='lower right')\n",
        "plt.title('CNN Accuracy vs Epoch')\n",
        "\n",
        "test_loss, test_acc = model.evaluate(test_images,  test_labels, verbose=2)"
      ]
    },
    {
      "cell_type": "code",
      "execution_count": null,
      "metadata": {
        "colab": {
          "base_uri": "https://localhost:8080/"
        },
        "id": "bat-xpiFrxDa",
        "outputId": "f1fbc2e2-eca8-4a6b-c503-717205d2522d"
      },
      "outputs": [
        {
          "name": "stdout",
          "output_type": "stream",
          "text": [
            "1194/1194 [==============================] - 2s 2ms/step\n"
          ]
        }
      ],
      "source": [
        "preds = model.predict(test_images)"
      ]
    },
    {
      "cell_type": "code",
      "execution_count": null,
      "metadata": {
        "colab": {
          "background_save": true
        },
        "id": "Jy3FMrVKI4Pl"
      },
      "outputs": [],
      "source": [
        "# Function to get the predicted LaTeX characters for each test image\n",
        "def predict_latex_chars():\n",
        "  index = 0\n",
        "  pred_chars = []\n",
        "\n",
        "  for row in range(len(test_data)):\n",
        "    # Get number of elements in this image\n",
        "    num_elements = len(test_data.iloc[row,:]['xmins'])\n",
        "    # print(num_elements)\n",
        "\n",
        "    temp = []\n",
        "    for i in range(num_elements):\n",
        "      # Get the index of the maximum (most certain) prediction value (0-91)\n",
        "      max_index = np.argmax(preds[index + i])\n",
        "      # Get the corresponding LaTeX character with the given index value\n",
        "      temp.append(list(char_map.keys())[list(char_map.values()).index(max_index)])\n",
        "\n",
        "    index += i + 1\n",
        "    pred_chars.append(temp)\n",
        "  return pred_chars\n",
        "\n",
        "# print(len(predicted_chars))\n",
        "# print(len(predicted_chars[0]))"
      ]
    },
    {
      "cell_type": "code",
      "execution_count": null,
      "metadata": {
        "id": "ehLp1n1iyFQ_"
      },
      "outputs": [],
      "source": [
        "def initialize_dicts():\n",
        "  result = {}\n",
        "  for elem in char_map.keys():\n",
        "    result[elem] = [[], 0, 0]\n",
        "\n",
        "  return result"
      ]
    },
    {
      "cell_type": "code",
      "execution_count": null,
      "metadata": {
        "colab": {
          "base_uri": "https://localhost:8080/"
        },
        "id": "8i1scKZ_05W7",
        "outputId": "d52a0e7f-25d7-45be-abfe-8c2b69008fd9"
      },
      "outputs": [
        {
          "name": "stdout",
          "output_type": "stream",
          "text": [
            "['\\\\lim_', 'w', '\\\\to', '1', '+', '\\\\frac', '6', 'w', '4', '+', '-', '7', 'w', '1', '\\\\left|', 'w', '+', '0', '\\\\right|']\n",
            "['\\\\lim_', 'w', '\\\\to', '1', '+', '\\\\frac', '6', 'w', '4', '+', '-', '7', 'w', '1', '1', 'w', '+', '0', '1']\n"
          ]
        }
      ],
      "source": [
        "print(test_data.iloc[2,:]['visible_latex_chars'])\n",
        "print(predict_latex_chars()[2])"
      ]
    },
    {
      "cell_type": "code",
      "execution_count": null,
      "metadata": {
        "id": "isJMqeCTv263"
      },
      "outputs": [],
      "source": [
        "def get_incorrect_predictions():\n",
        "  num_incorrect  = []\n",
        "  predicted_chars = predict_latex_chars()\n",
        "  incorrect = initialize_dicts()\n",
        "  for row in range(len(test_data)):\n",
        "    num_incorrect_in_row = 0\n",
        "    for col in range(len(test_data.iloc[row,:]['visible_latex_chars'])):\n",
        "      true_char = test_data.iloc[row,:]['visible_latex_chars'][col]\n",
        "      pred_char = predicted_chars[row][col]\n",
        "      if true_char != pred_char:\n",
        "        # print (\"True:\", true_char, \", pred:\", pred_char)\n",
        "        incorrect[true_char][0].append(pred_char)\n",
        "        num_incorrect_in_row += 1\n",
        "      incorrect[true_char][1] += 1\n",
        "    num_incorrect.append(num_incorrect_in_row)\n",
        "  return incorrect,num_incorrect"
      ]
    },
    {
      "cell_type": "code",
      "execution_count": null,
      "metadata": {
        "id": "JBvnom1BzKJp"
      },
      "outputs": [],
      "source": [
        "incorrect, num_incorrect_per_row = get_incorrect_predictions()"
      ]
    },
    {
      "cell_type": "code",
      "execution_count": null,
      "metadata": {
        "colab": {
          "base_uri": "https://localhost:8080/"
        },
        "id": "MiGDK-xj1ubM",
        "outputId": "02278641-c09e-45b1-97d9-817f846d6ff0"
      },
      "outputs": [
        {
          "name": "stdout",
          "output_type": "stream",
          "text": [
            "[('\\\\cdot', 0.0), ('\\\\sin', 0.0), ('\\\\lim_', 0.1786511835640911), ('3', 0.4698512137823023), ('\\\\sqrt', 0.5076142131979695), ('\\\\to', 0.6252791424743189), ('\\\\infty', 0.7575757575757576), ('2', 0.7739082365948038), ('x', 0.8291873963515755), ('=', 0.91324200913242), ('d', 0.9532062391681109), ('\\\\tan', 0.9602194787379973), ('\\\\pi', 0.967741935483871), ('\\\\right)', 1.2175324675324677), ('6', 1.3986013986013985), ('4', 1.5659955257270695), ('8', 1.63727959697733), ('w', 1.7571884984025559), ('\\\\cos', 1.7973856209150325), ('\\\\log', 1.9083969465648856), ('\\\\theta', 2.0), ('\\\\csc', 2.0), ('0', 2.1447721179624666), ('k', 2.810304449648712), ('7', 2.8702640642939152), ('5', 3.225806451612903), ('\\\\sec', 3.292181069958848), ('\\\\left(', 3.4090909090909087), ('1', 3.6753445635528332), ('\\\\ln', 3.7037037037037033), ('u', 3.727714748784441), ('b', 4.012345679012346), ('y', 4.081632653061225), ('p', 4.587155963302752), ('+', 4.76595744680851), ('\\\\frac', 4.934886908841672), ('9', 5.65410199556541), ('-', 5.985169491525424), ('h', 7.05244122965642), ('r', 7.08955223880597), ('e', 7.352941176470589), ('/', 7.570422535211267), ('v', 8.059701492537313), ('a', 11.188811188811188), ('n', 11.715481171548117), ('s', 12.132352941176471), ('\\\\cot', 13.23529411764706), ('c', 14.02439024390244), ('g', 17.936117936117938), ('t', 21.205821205821206), ('z', 43.66576819407008), ('\\\\right|', 92.7710843373494), ('\\\\left|', 98.79518072289156), ('.', 100.0)]\n"
          ]
        }
      ],
      "source": [
        "incorrect_percentages = {}\n",
        "for item in incorrect.keys():\n",
        "  if (incorrect[item][1]) != 0:\n",
        "    incorrect_percentages[item] = (len(incorrect[item][0]) / incorrect[item][1]) * 100\n",
        "\n",
        "print(sorted(incorrect_percentages.items(), key=lambda item: item[1]))"
      ]
    },
    {
      "cell_type": "code",
      "execution_count": null,
      "metadata": {
        "colab": {
          "base_uri": "https://localhost:8080/"
        },
        "id": "R3T2016aDwhZ",
        "outputId": "61ded30a-b7a6-479f-d9d0-1c901be37f0c"
      },
      "outputs": [
        {
          "name": "stdout",
          "output_type": "stream",
          "text": [
            "Actual value: \\alpha , Most frequent misclassification: N/A\n",
            "Actual value: \\approx , Most frequent misclassification: N/A\n",
            "Actual value: \\beta , Most frequent misclassification: N/A\n",
            "Actual value: \\cdot , Most frequent misclassification: N/A\n",
            "Actual value: \\delta , Most frequent misclassification: N/A\n",
            "Actual value: \\div , Most frequent misclassification: N/A\n",
            "Actual value: \\frac , Most frequent misclassification: -\n",
            "Actual value: \\gamma , Most frequent misclassification: N/A\n",
            "Actual value: \\geq , Most frequent misclassification: N/A\n",
            "Actual value: \\infty , Most frequent misclassification: \\pi\n",
            "Actual value: \\int , Most frequent misclassification: N/A\n",
            "Actual value: \\left( , Most frequent misclassification: c\n",
            "Actual value: \\left[ , Most frequent misclassification: N/A\n",
            "Actual value: \\left\\{ , Most frequent misclassification: N/A\n",
            "Actual value: \\left| , Most frequent misclassification: 1\n",
            "Actual value: \\leq , Most frequent misclassification: N/A\n",
            "Actual value: \\neq , Most frequent misclassification: N/A\n",
            "Actual value: \\pi , Most frequent misclassification: 2\n",
            "Actual value: \\pm , Most frequent misclassification: N/A\n",
            "Actual value: \\prime , Most frequent misclassification: N/A\n",
            "Actual value: \\right) , Most frequent misclassification: 1\n",
            "Actual value: \\right] , Most frequent misclassification: N/A\n",
            "Actual value: \\right| , Most frequent misclassification: 1\n",
            "Actual value: \\sqrt , Most frequent misclassification: \\pi\n",
            "Actual value: \\theta , Most frequent misclassification: g\n",
            "Actual value: + , Most frequent misclassification: t\n",
            "Actual value: , , Most frequent misclassification: N/A\n",
            "Actual value: - , Most frequent misclassification: \\frac\n",
            "Actual value: . , Most frequent misclassification: \\cdot\n",
            "Actual value: / , Most frequent misclassification: 1\n",
            "Actual value: 0 , Most frequent misclassification: p\n",
            "Actual value: 1 , Most frequent misclassification: 7\n",
            "Actual value: 2 , Most frequent misclassification: z\n",
            "Actual value: 3 , Most frequent misclassification: 5\n",
            "Actual value: 4 , Most frequent misclassification: u\n",
            "Actual value: 5 , Most frequent misclassification: s\n",
            "Actual value: 6 , Most frequent misclassification: b\n",
            "Actual value: 7 , Most frequent misclassification: 1\n",
            "Actual value: 8 , Most frequent misclassification: g\n",
            "Actual value: 9 , Most frequent misclassification: g\n",
            "Actual value: ; , Most frequent misclassification: N/A\n",
            "Actual value: < , Most frequent misclassification: N/A\n",
            "Actual value: = , Most frequent misclassification: 2\n",
            "Actual value: > , Most frequent misclassification: N/A\n",
            "Actual value: A , Most frequent misclassification: N/A\n",
            "Actual value: C , Most frequent misclassification: N/A\n",
            "Actual value: F , Most frequent misclassification: N/A\n",
            "Actual value: G , Most frequent misclassification: N/A\n",
            "Actual value: H , Most frequent misclassification: N/A\n",
            "Actual value: L , Most frequent misclassification: N/A\n",
            "Actual value: a , Most frequent misclassification: 9\n",
            "Actual value: b , Most frequent misclassification: 6\n",
            "Actual value: c , Most frequent misclassification: \\left(\n",
            "Actual value: d , Most frequent misclassification: 2\n",
            "Actual value: e , Most frequent misclassification: c\n",
            "Actual value: f , Most frequent misclassification: N/A\n",
            "Actual value: g , Most frequent misclassification: 9\n",
            "Actual value: h , Most frequent misclassification: b\n",
            "Actual value: k , Most frequent misclassification: h\n",
            "Actual value: n , Most frequent misclassification: h\n",
            "Actual value: p , Most frequent misclassification: b\n",
            "Actual value: r , Most frequent misclassification: \\left(\n",
            "Actual value: s , Most frequent misclassification: 5\n",
            "Actual value: t , Most frequent misclassification: +\n",
            "Actual value: u , Most frequent misclassification: 4\n",
            "Actual value: v , Most frequent misclassification: u\n",
            "Actual value: w , Most frequent misclassification: u\n",
            "Actual value: x , Most frequent misclassification: +\n",
            "Actual value: y , Most frequent misclassification: x\n",
            "Actual value: z , Most frequent misclassification: 2\n",
            "Actual value: \\lim_ , Most frequent misclassification: \\tan\n",
            "Actual value: \\log , Most frequent misclassification: \\tan\n",
            "Actual value: \\cot , Most frequent misclassification: \\cos\n",
            "Actual value: \\csc , Most frequent misclassification: \\cos\n",
            "Actual value: \\to , Most frequent misclassification: -\n",
            "Actual value: \\cos , Most frequent misclassification: \\cot\n",
            "Actual value: \\sec , Most frequent misclassification: \\tan\n",
            "Actual value: \\sin , Most frequent misclassification: N/A\n",
            "Actual value: \\ln , Most frequent misclassification: h\n",
            "Actual value: \\tan , Most frequent misclassification: \\lim_\n",
            "Actual value: \\arcsin , Most frequent misclassification: N/A\n",
            "Actual value: \\arccos , Most frequent misclassification: N/A\n",
            "Actual value: \\arctan , Most frequent misclassification: N/A\n",
            "Actual value: \\arccot , Most frequent misclassification: N/A\n",
            "Actual value: \\arccsc , Most frequent misclassification: N/A\n",
            "Actual value: \\arcsec , Most frequent misclassification: N/A\n",
            "Actual value: \\textup{Undefined} , Most frequent misclassification: N/A\n",
            "Actual value: \\textup{Does not exist} , Most frequent misclassification: N/A\n",
            "Actual value: \\textup{True} , Most frequent misclassification: N/A\n",
            "Actual value: \\textup{False} , Most frequent misclassification: N/A\n",
            "Actual value: \\stackrel{\\textup{H}}{=} , Most frequent misclassification: N/A\n"
          ]
        }
      ],
      "source": [
        "from scipy import stats\n",
        "\n",
        "for char in char_map.keys():\n",
        "  incorrect_as_num = [char_map[elt] for elt in incorrect[char][0]]\n",
        "  if len(incorrect_as_num) > 0:\n",
        "    mode, _ = stats.mode(np.array(incorrect_as_num))\n",
        "    print(\"Actual value:\", char, \", Most frequent misclassification:\", list(char_map.keys())[list(char_map.values()).index(mode)])\n",
        "  else:\n",
        "    print(\"Actual value:\", char, \", Most frequent misclassification: N/A\")"
      ]
    },
    {
      "cell_type": "code",
      "execution_count": null,
      "metadata": {
        "colab": {
          "base_uri": "https://localhost:8080/"
        },
        "id": "PEWnoQNc8qn4",
        "outputId": "541ee66b-4bd3-4ed5-bff2-d8dd7eb6556b"
      },
      "outputs": [
        {
          "name": "stdout",
          "output_type": "stream",
          "text": [
            "[ 7.69230769  3.125      10.52631579  0.          0.        ]\n",
            "[1 1 2 0 0]\n"
          ]
        }
      ],
      "source": [
        "row_lengths = np.array([len(row) for row in test_data['visible_latex_chars']])\n",
        "np_num_incorrect = np.array(num_incorrect_per_row)\n",
        "percent_wrong = (np_num_incorrect / row_lengths) * 100\n",
        "print(percent_wrong[0:5])\n",
        "print(np_num_incorrect[0:5])"
      ]
    },
    {
      "cell_type": "code",
      "execution_count": null,
      "metadata": {
        "colab": {
          "base_uri": "https://localhost:8080/"
        },
        "id": "V4O1CGi4_gF9",
        "outputId": "cd37ec04-a5c5-46ff-fc81-c48f4693b705"
      },
      "outputs": [
        {
          "name": "stdout",
          "output_type": "stream",
          "text": [
            "1162\n",
            "58.099999999999994\n"
          ]
        }
      ],
      "source": [
        "none_wrong = len([elt for elt in percent_wrong if elt == 0])\n",
        "print(none_wrong)\n",
        "print((none_wrong / len(test_data)) * 100)"
      ]
    },
    {
      "cell_type": "code",
      "execution_count": null,
      "metadata": {
        "colab": {
          "base_uri": "https://localhost:8080/"
        },
        "id": "50Ekj_pmBcJh",
        "outputId": "4ecd1766-42d0-4729-c64f-7dca83470c72"
      },
      "outputs": [
        {
          "name": "stdout",
          "output_type": "stream",
          "text": [
            "1666\n",
            "83.3\n"
          ]
        }
      ],
      "source": [
        "ninety_per_correct = len([elt for elt in percent_wrong if elt < 10])\n",
        "print(ninety_per_correct)\n",
        "print((ninety_per_correct) / len(test_data) * 100)"
      ]
    },
    {
      "cell_type": "code",
      "execution_count": null,
      "metadata": {
        "colab": {
          "base_uri": "https://localhost:8080/"
        },
        "id": "vbIc8CH2B0JU",
        "outputId": "dc056161-06c9-4823-9809-8b45dee46465"
      },
      "outputs": [
        {
          "name": "stdout",
          "output_type": "stream",
          "text": [
            "1914\n",
            "95.7\n"
          ]
        }
      ],
      "source": [
        "eighty_per_correct = len([elt for elt in percent_wrong if elt < 20])\n",
        "print(eighty_per_correct)\n",
        "print((eighty_per_correct) / len(test_data) * 100)"
      ]
    },
    {
      "cell_type": "markdown",
      "metadata": {
        "id": "Ji-I-y7Z01i1"
      },
      "source": [
        "# Seq2Seq Model for LaTeX Parsing\n",
        "\n",
        "For now taken from ChatGPT, haven't tried to run it yet"
      ]
    },
    {
      "cell_type": "code",
      "execution_count": null,
      "metadata": {
        "id": "Zr44rHxj00Po"
      },
      "outputs": [],
      "source": [
        "from keras.models import Model\n",
        "from keras.layers import Input, LSTM, Dense"
      ]
    },
    {
      "cell_type": "code",
      "execution_count": null,
      "metadata": {
        "id": "28c4VLlr1Ocz"
      },
      "outputs": [],
      "source": [
        "output_char_map = json.load(open('/content/ocr-data/extras/visible_char_map.json'))\n",
        "output_char_map[\"{\"] = 92\n",
        "output_char_map[\"}\"] = 93\n",
        "output_char_map[\"^\"] = 94\n",
        "output_char_map[\"_\"] = 95\n",
        "output_char_map[\"]\"] = 96\n",
        "output_char_map[\"[\"] = 97\n",
        "\n",
        "\n",
        "input_tokens = char_map.keys()\n",
        "output_tokens = output_char_map.keys()"
      ]
    },
    {
      "cell_type": "code",
      "execution_count": null,
      "metadata": {
        "id": "NMKbbfhl2JLd"
      },
      "outputs": [],
      "source": [
        "def preprocessForSeq2Seq(input_texts, target_texts, input_token_to_idx, target_token_to_idx):\n",
        "    input_seq_length = max([len(txt.split()) for txt in input_texts])\n",
        "    target_seq_length = max([len(txt.split()) for txt in target_texts])\n",
        "\n",
        "    encoder_input_data = np.zeros((len(input_texts), input_seq_length, len(input_token_to_idx)), dtype='float32')\n",
        "    decoder_input_data = np.zeros((len(input_texts), target_seq_length, len(target_token_to_idx)), dtype='float32')\n",
        "    decoder_target_data = np.zeros((len(input_texts), target_seq_length, len(target_token_to_idx)), dtype='float32')\n",
        "\n",
        "    for i, (input_text, target_text) in enumerate(zip(input_texts, target_texts)):\n",
        "        for t, token in enumerate(input_text.split()):\n",
        "            encoder_input_data[i, t, input_token_to_idx[token] - 1] = 1.0\n",
        "        for t, token in enumerate(target_text.split()):\n",
        "            decoder_input_data[i, t, target_token_to_idx[token] - 1] = 1.0\n",
        "            if t > 0:\n",
        "                decoder_target_data[i, t - 1, target_token_to_idx[token] - 1] = 1.0\n",
        "\n",
        "    return encoder_input_data, decoder_input_data, decoder_target_data\n"
      ]
    },
    {
      "cell_type": "code",
      "execution_count": null,
      "metadata": {
        "id": "h2qwNn4Q09A3"
      },
      "outputs": [],
      "source": [
        "def createModel(input_dim, output_dim, latent_dim):\n",
        "  encoder_inputs = Input(shape=(None, input_dim))\n",
        "  encoder_lstm = LSTM(latent_dim, input_shape=(1,input_dim), return_state=True)\n",
        "  encoder_outputs, state_h, state_c = encoder_lstm(encoder_inputs)\n",
        "  encoder_states = [state_h, state_c]\n",
        "\n",
        "  # Decoder\n",
        "  decoder_inputs = Input(shape=(None, output_dim))\n",
        "  decoder_lstm = LSTM(latent_dim, input_shape=(1,output_dim), return_sequences=True, return_state=True)\n",
        "  decoder_outputs, _, _ = decoder_lstm(decoder_inputs, initial_state=encoder_states)\n",
        "  decoder_dense = Dense(output_dim, activation='softmax')\n",
        "  decoder_outputs = decoder_dense(decoder_outputs)\n",
        "\n",
        "  # Model\n",
        "  model = Model([encoder_inputs, decoder_inputs], decoder_outputs)\n",
        "\n",
        "  return model"
      ]
    },
    {
      "cell_type": "code",
      "execution_count": null,
      "metadata": {
        "id": "Lsq5WyoY7b86"
      },
      "outputs": [],
      "source": [
        "# preprocess data\n",
        "input_texts = [' '.join(latex_chars) for latex_chars in df['visible_latex_chars']]\n",
        "target_texts = [' '.join(latex_chars) for latex_chars in df['full_latex_chars']]\n",
        "encoder_input_data, decoder_input_data, decoder_target_data = preprocessForSeq2Seq(input_texts, target_texts, char_map, output_char_map)"
      ]
    },
    {
      "cell_type": "code",
      "execution_count": null,
      "metadata": {
        "id": "cDaxz8Y3cXAQ"
      },
      "outputs": [],
      "source": [
        "# Define model parameters\n",
        "input_vocab_size = len(input_tokens)\n",
        "output_vocab_size = len(output_tokens)\n",
        "latent_dim = 256  # Dimensionality of the latent space"
      ]
    },
    {
      "cell_type": "code",
      "execution_count": null,
      "metadata": {
        "colab": {
          "base_uri": "https://localhost:8080/"
        },
        "id": "e1Dwx6Ty7FCf",
        "outputId": "f06ff1fc-e34a-4e9a-d8e5-8d44a65a04a2"
      },
      "outputs": [
        {
          "name": "stdout",
          "output_type": "stream",
          "text": [
            "Epoch 1/10\n",
            "125/125 [==============================] - 8s 40ms/step - loss: 0.9867 - val_loss: 0.9308\n",
            "Epoch 2/10\n",
            "125/125 [==============================] - 3s 21ms/step - loss: 0.9328 - val_loss: 0.9232\n",
            "Epoch 3/10\n",
            "125/125 [==============================] - 3s 21ms/step - loss: 0.9250 - val_loss: 0.9194\n",
            "Epoch 4/10\n",
            "125/125 [==============================] - 3s 21ms/step - loss: 0.9184 - val_loss: 0.9139\n",
            "Epoch 5/10\n",
            "125/125 [==============================] - 3s 23ms/step - loss: 0.9121 - val_loss: 0.9110\n",
            "Epoch 6/10\n",
            "125/125 [==============================] - 3s 24ms/step - loss: 0.9052 - val_loss: 0.8963\n",
            "Epoch 7/10\n",
            "125/125 [==============================] - 3s 21ms/step - loss: 0.8978 - val_loss: 0.9101\n",
            "Epoch 8/10\n",
            "125/125 [==============================] - 3s 21ms/step - loss: 0.8903 - val_loss: 0.8786\n",
            "Epoch 9/10\n",
            "125/125 [==============================] - 3s 21ms/step - loss: 0.8811 - val_loss: 0.8813\n",
            "Epoch 10/10\n",
            "125/125 [==============================] - 3s 23ms/step - loss: 0.8743 - val_loss: 0.8778\n"
          ]
        },
        {
          "data": {
            "text/plain": [
              "<keras.src.callbacks.History at 0x7ba89728ae60>"
            ]
          },
          "execution_count": 41,
          "metadata": {},
          "output_type": "execute_result"
        }
      ],
      "source": [
        "# Create and compile the model\n",
        "model = createModel(input_vocab_size, output_vocab_size, latent_dim)\n",
        "model.compile(optimizer='rmsprop', loss='categorical_crossentropy')\n",
        "\n",
        "# Train the model\n",
        "model.fit([encoder_input_data, decoder_input_data], decoder_target_data, batch_size=64, epochs=10, validation_split=0.2)"
      ]
    },
    {
      "cell_type": "markdown",
      "metadata": {
        "id": "3J-zYgocf8eH"
      },
      "source": [
        "# Let's try this again but with the Keras example instead of ChatGPT\n"
      ]
    },
    {
      "cell_type": "code",
      "execution_count": null,
      "metadata": {
        "id": "rO3WpQI-gT4a"
      },
      "outputs": [],
      "source": [
        "from keras.models import Model\n",
        "from keras.layers import Input, LSTM, Dense"
      ]
    },
    {
      "cell_type": "code",
      "execution_count": null,
      "metadata": {
        "id": "botG0PcZgUZx"
      },
      "outputs": [],
      "source": [
        "# output_char_map = json.load(open('/content/ocr-data/extras/visible_char_map.json'))\n",
        "# output_char_map[\"{\"] = 92\n",
        "# output_char_map[\"}\"] = 93\n",
        "# output_char_map[\"^\"] = 94\n",
        "# output_char_map[\"_\"] = 95\n",
        "# output_char_map[\"]\"] = 96\n",
        "# output_char_map[\"[\"] = 97\n",
        "\n",
        "\n",
        "# input_tokens = char_map.keys()\n",
        "# output_tokens = output_char_map.keys()"
      ]
    },
    {
      "cell_type": "code",
      "execution_count": null,
      "metadata": {
        "id": "utsr7cMIgabk"
      },
      "outputs": [],
      "source": [
        "# preprocess data\n",
        "input_texts = [' '.join(latex_chars) for latex_chars in train_data['visible_latex_chars']]\n",
        "target_texts = [' '.join(latex_chars) for latex_chars in train_data['full_latex_chars']]"
      ]
    },
    {
      "cell_type": "code",
      "execution_count": null,
      "metadata": {
        "colab": {
          "base_uri": "https://localhost:8080/"
        },
        "id": "ywQtTBqrgIqu",
        "outputId": "ff5fd6da-5979-40fb-c93a-ca84eef47224"
      },
      "outputs": [
        {
          "name": "stdout",
          "output_type": "stream",
          "text": [
            "Number of samples: 8000\n",
            "Number of unique input tokens: 46\n",
            "Number of unique output tokens: 51\n",
            "Max sequence length for inputs: 222\n",
            "Max sequence length for outputs: 317\n"
          ]
        }
      ],
      "source": [
        "# get complete list of possible characters (vocbaulary)\n",
        "input_characters = set()\n",
        "target_characters = set()\n",
        "\n",
        "# input texts\n",
        "for input_text in input_texts:\n",
        "    for char in input_text:\n",
        "        if char not in input_characters:\n",
        "            input_characters.add(char)\n",
        "\n",
        "# output texts\n",
        "for target_text in target_texts:\n",
        "    for char in target_text:\n",
        "        if char not in target_characters:\n",
        "            target_characters.add(char)\n",
        "\n",
        "input_characters = sorted(list(input_characters))\n",
        "target_characters = sorted(list(target_characters))\n",
        "num_encoder_tokens = len(input_characters)\n",
        "num_decoder_tokens = len(target_characters)\n",
        "max_encoder_seq_length = max([len(txt) for txt in input_texts])\n",
        "max_decoder_seq_length = max([len(txt) for txt in target_texts])\n",
        "\n",
        "print(\"Number of samples:\", len(input_texts))\n",
        "print(\"Number of unique input tokens:\", num_encoder_tokens)\n",
        "print(\"Number of unique output tokens:\", num_decoder_tokens)\n",
        "print(\"Max sequence length for inputs:\", max_encoder_seq_length)\n",
        "print(\"Max sequence length for outputs:\", max_decoder_seq_length)\n",
        "\n",
        "input_token_index = dict([(char, i) for i, char in enumerate(input_characters)])\n",
        "target_token_index = dict([(char, i) for i, char in enumerate(target_characters)])\n",
        "\n",
        "encoder_input_data = np.zeros(\n",
        "    (len(input_texts), max_encoder_seq_length, num_encoder_tokens),\n",
        "    dtype=\"float32\",\n",
        ")\n",
        "decoder_input_data = np.zeros(\n",
        "    (len(input_texts), max_decoder_seq_length, num_decoder_tokens),\n",
        "    dtype=\"float32\",\n",
        ")\n",
        "decoder_target_data = np.zeros(\n",
        "    (len(input_texts), max_decoder_seq_length, num_decoder_tokens),\n",
        "    dtype=\"float32\",\n",
        ")\n",
        "\n",
        "for i, (input_text, target_text) in enumerate(zip(input_texts, target_texts)):\n",
        "    for t, char in enumerate(input_text):\n",
        "        encoder_input_data[i, t, input_token_index[char]] = 1.0\n",
        "    encoder_input_data[i, t + 1 :, input_token_index[\" \"]] = 1.0\n",
        "    for t, char in enumerate(target_text):\n",
        "        # decoder_target_data is ahead of decoder_input_data by one timestep\n",
        "        decoder_input_data[i, t, target_token_index[char]] = 1.0\n",
        "        if t > 0:\n",
        "            # decoder_target_data will be ahead by one timestep\n",
        "            # and will not include the start character.\n",
        "            decoder_target_data[i, t - 1, target_token_index[char]] = 1.0\n",
        "    decoder_input_data[i, t + 1 :, target_token_index[\" \"]] = 1.0\n",
        "    decoder_target_data[i, t:, target_token_index[\" \"]] = 1.0"
      ]
    },
    {
      "cell_type": "code",
      "execution_count": null,
      "metadata": {
        "id": "AvvAf4F7hVjb"
      },
      "outputs": [],
      "source": [
        "# Heavily influenced by existing Seq2Seq model implementations:\n",
        "# encode the input sequence\n",
        "latent_dim = 256\n",
        "encoder_inputs = Input(shape=(None, num_encoder_tokens))\n",
        "encoder = layers.LSTM(latent_dim, return_state=True)\n",
        "encoder_outputs, state_h, state_c = encoder(encoder_inputs)\n",
        "\n",
        "# get the encoder states\n",
        "encoder_states = [state_h, state_c]\n",
        "\n",
        "# create inputs for decoder\n",
        "decoder_inputs = Input(shape=(None, num_decoder_tokens))\n",
        "\n",
        "# decode the given sequence from the encoder\n",
        "decoder_lstm = layers.LSTM(latent_dim, return_sequences=True, return_state=True)\n",
        "decoder_outputs, _, _ = decoder_lstm(decoder_inputs, initial_state=encoder_states)\n",
        "decoder_dense = layers.Dense(num_decoder_tokens, activation=\"softmax\")\n",
        "decoder_outputs = decoder_dense(decoder_outputs)\n",
        "\n",
        "# wrap everything into one model\n",
        "model = Model([encoder_inputs, decoder_inputs], decoder_outputs)"
      ]
    },
    {
      "cell_type": "code",
      "execution_count": null,
      "metadata": {
        "colab": {
          "background_save": true,
          "base_uri": "https://localhost:8080/"
        },
        "id": "odgE7MsWhoEW",
        "outputId": "a9a46ba5-e587-4a1c-f673-fd91cb0128d2"
      },
      "outputs": [
        {
          "name": "stdout",
          "output_type": "stream",
          "text": [
            "Epoch 1/10\n",
            "100/100 [==============================] - 10s 69ms/step - loss: 1.1206 - accuracy: 0.7994 - val_loss: 1.2981 - val_accuracy: 0.8087\n",
            "Epoch 2/10\n",
            "100/100 [==============================] - 5s 49ms/step - loss: 0.8389 - accuracy: 0.8137 - val_loss: 0.7722 - val_accuracy: 0.8112\n",
            "Epoch 3/10\n",
            "100/100 [==============================] - 6s 58ms/step - loss: 0.7196 - accuracy: 0.8249 - val_loss: 0.6261 - val_accuracy: 0.8318\n",
            "Epoch 4/10\n",
            "100/100 [==============================] - 5s 50ms/step - loss: 0.4776 - accuracy: 0.8836 - val_loss: 0.3962 - val_accuracy: 0.9013\n",
            "Epoch 5/10\n",
            "100/100 [==============================] - 5s 51ms/step - loss: 0.3460 - accuracy: 0.9121 - val_loss: 0.3280 - val_accuracy: 0.9206\n",
            "Epoch 6/10\n",
            "100/100 [==============================] - 5s 53ms/step - loss: 0.2795 - accuracy: 0.9270 - val_loss: 0.2609 - val_accuracy: 0.9305\n",
            "Epoch 7/10\n",
            "100/100 [==============================] - 5s 50ms/step - loss: 0.2384 - accuracy: 0.9367 - val_loss: 0.2240 - val_accuracy: 0.9415\n",
            "Epoch 8/10\n",
            "100/100 [==============================] - 5s 51ms/step - loss: 0.2111 - accuracy: 0.9433 - val_loss: 0.1984 - val_accuracy: 0.9461\n",
            "Epoch 9/10\n",
            "100/100 [==============================] - 5s 52ms/step - loss: 0.1912 - accuracy: 0.9476 - val_loss: 0.1852 - val_accuracy: 0.9486\n",
            "Epoch 10/10\n",
            "100/100 [==============================] - 5s 50ms/step - loss: 0.1775 - accuracy: 0.9504 - val_loss: 0.1777 - val_accuracy: 0.9498\n"
          ]
        }
      ],
      "source": [
        "model.compile(\n",
        "    optimizer=\"rmsprop\", loss=\"categorical_crossentropy\", metrics=[\"accuracy\"]\n",
        ")\n",
        "\n",
        "history = model.fit(\n",
        "    [encoder_input_data, decoder_input_data],\n",
        "    decoder_target_data,\n",
        "    batch_size=64,\n",
        "    epochs=10,\n",
        "    validation_split=0.2,\n",
        ")"
      ]
    },
    {
      "cell_type": "code",
      "execution_count": null,
      "metadata": {
        "colab": {
          "background_save": true
        },
        "id": "lNNXwK7LdA6K",
        "outputId": "03095e3d-95fd-4e10-c954-7b9dd5ab6462"
      },
      "outputs": [
        {
          "data": {
            "text/plain": [
              "Text(0.5, 1.0, 'Seq2Seq Accuracy vs Epoch')"
            ]
          },
          "execution_count": 48,
          "metadata": {},
          "output_type": "execute_result"
        },
        {
          "data": {
            "image/png": "[encoded data removed]",
            "text/plain": [
              "<Figure size 640x480 with 1 Axes>"
            ]
          },
          "metadata": {},
          "output_type": "display_data"
        }
      ],
      "source": [
        "plt.plot(history.history['accuracy'], label='accuracy')\n",
        "plt.plot(history.history['val_accuracy'], label = 'val_accuracy')\n",
        "plt.xlabel('Epoch')\n",
        "plt.ylabel('Accuracy')\n",
        "plt.ylim([0.75, 1])\n",
        "plt.legend(loc='lower right')\n",
        "plt.title('Seq2Seq Accuracy vs Epoch')\n",
        "\n",
        "# test_loss, test_acc = model.evaluate(test_images,  test_labels, verbose=2)"
      ]
    },
    {
      "cell_type": "code",
      "execution_count": null,
      "metadata": {
        "colab": {
          "background_save": true
        },
        "id": "a6pOQjz5lq4O"
      },
      "outputs": [],
      "source": [
        "model.save(\"s2s_model.keras\")"
      ]
    },
    {
      "cell_type": "code",
      "execution_count": null,
      "metadata": {
        "colab": {
          "background_save": true
        },
        "id": "8a10AOJCwA5Q",
        "outputId": "e7cf5d3f-a459-41d1-f5b1-ac438f786a3d"
      },
      "outputs": [
        {
          "ename": "KeyError",
          "evalue": "'\\t'",
          "output_type": "error",
          "traceback": [
            "\u001b[0;31m---------------------------------------------------------------------------\u001b[0m",
            "\u001b[0;31mKeyError\u001b[0m                                  Traceback (most recent call last)",
            "\u001b[0;32m<ipython-input-50-20bdbdb81082>\u001b[0m in \u001b[0;36m<cell line: 12>\u001b[0;34m()\u001b[0m\n\u001b[1;32m     16\u001b[0m     \u001b[0;32mfor\u001b[0m \u001b[0mt\u001b[0m\u001b[0;34m,\u001b[0m \u001b[0mchar\u001b[0m \u001b[0;32min\u001b[0m \u001b[0menumerate\u001b[0m\u001b[0;34m(\u001b[0m\u001b[0mtest_target_text\u001b[0m\u001b[0;34m)\u001b[0m\u001b[0;34m:\u001b[0m\u001b[0;34m\u001b[0m\u001b[0;34m\u001b[0m\u001b[0m\n\u001b[1;32m     17\u001b[0m         \u001b[0;31m# decoder_target_data is ahead of decoder_input_data by one timestep\u001b[0m\u001b[0;34m\u001b[0m\u001b[0;34m\u001b[0m\u001b[0m\n\u001b[0;32m---> 18\u001b[0;31m         \u001b[0mtest_decoder_input_data\u001b[0m\u001b[0;34m[\u001b[0m\u001b[0mi\u001b[0m\u001b[0;34m,\u001b[0m \u001b[0mt\u001b[0m\u001b[0;34m,\u001b[0m \u001b[0mtarget_token_index\u001b[0m\u001b[0;34m[\u001b[0m\u001b[0mchar\u001b[0m\u001b[0;34m]\u001b[0m\u001b[0;34m]\u001b[0m \u001b[0;34m=\u001b[0m \u001b[0;36m1.0\u001b[0m\u001b[0;34m\u001b[0m\u001b[0;34m\u001b[0m\u001b[0m\n\u001b[0m\u001b[1;32m     19\u001b[0m     \u001b[0mtest_decoder_input_data\u001b[0m\u001b[0;34m[\u001b[0m\u001b[0mi\u001b[0m\u001b[0;34m,\u001b[0m \u001b[0mt\u001b[0m \u001b[0;34m+\u001b[0m \u001b[0;36m1\u001b[0m \u001b[0;34m:\u001b[0m\u001b[0;34m,\u001b[0m \u001b[0mtarget_token_index\u001b[0m\u001b[0;34m[\u001b[0m\u001b[0;34m\" \"\u001b[0m\u001b[0;34m]\u001b[0m\u001b[0;34m]\u001b[0m \u001b[0;34m=\u001b[0m \u001b[0;36m1.0\u001b[0m\u001b[0;34m\u001b[0m\u001b[0;34m\u001b[0m\u001b[0m\n",
            "\u001b[0;31mKeyError\u001b[0m: '\\t'"
          ]
        }
      ],
      "source": [
        "test_input_texts = [' '.join(latex_chars) for latex_chars in test_data['visible_latex_chars']]\n",
        "test_target_texts = [\"\\t\" + ' '.join(latex_chars) + \"\\n\" for latex_chars in test_data['full_latex_chars']]\n",
        "\n",
        "test_encoder_input_data = np.zeros(\n",
        "    (len(input_texts), max_encoder_seq_length, num_encoder_tokens),\n",
        "    dtype=\"float32\",\n",
        ")\n",
        "test_decoder_input_data = np.zeros(\n",
        "    (len(input_texts), max_decoder_seq_length, num_decoder_tokens),\n",
        "    dtype=\"float32\",\n",
        ")\n",
        "for i, (test_input_text, test_target_text) in enumerate(zip(test_input_texts, test_target_texts)):\n",
        "    for t, char in enumerate(test_input_text):\n",
        "        test_encoder_input_data[i, t, input_token_index[char]] = 1.0\n",
        "    test_encoder_input_data[i, t + 1 :, input_token_index[\" \"]] = 1.0\n",
        "    for t, char in enumerate(test_target_text):\n",
        "        # decoder_target_data is ahead of decoder_input_data by one timestep\n",
        "        test_decoder_input_data[i, t, target_token_index[char]] = 1.0\n",
        "    test_decoder_input_data[i, t + 1 :, target_token_index[\" \"]] = 1.0"
      ]
    },
    {
      "cell_type": "code",
      "execution_count": null,
      "metadata": {
        "colab": {
          "background_save": true
        },
        "id": "wvlS18kjwNmK"
      },
      "outputs": [],
      "source": [
        "latex_pred = model.predict([test_encoder_input_data, test_decoder_input_data])"
      ]
    },
    {
      "cell_type": "code",
      "execution_count": null,
      "metadata": {
        "colab": {
          "background_save": true
        },
        "id": "M0COK1jR02Tr"
      },
      "outputs": [],
      "source": [
        "# Reverse-lookup token index to decode sequences back to\n",
        "# something readable.\n",
        "reverse_input_char_index = dict((i, char) for char, i in input_token_index.items())\n",
        "reverse_target_char_index = dict((i, char) for char, i in target_token_index.items())"
      ]
    },
    {
      "cell_type": "code",
      "execution_count": null,
      "metadata": {
        "colab": {
          "background_save": true
        },
        "id": "Ze0mOzipe8P0"
      },
      "outputs": [],
      "source": [
        "import keras\n",
        "# Define sampling models\n",
        "# Restore the model and construct the encoder and decoder.\n",
        "model = keras.models.load_model(\"s2s_model.keras\")\n",
        "\n",
        "encoder_inputs = model.input[0]  # input_1\n",
        "encoder_outputs, state_h_enc, state_c_enc = model.layers[2].output  # lstm_1\n",
        "encoder_states = [state_h_enc, state_c_enc]\n",
        "encoder_model = keras.Model(encoder_inputs, encoder_states)\n",
        "\n",
        "decoder_inputs = model.input[1]  # input_2\n",
        "decoder_state_input_h = keras.Input(shape=(latent_dim,))\n",
        "decoder_state_input_c = keras.Input(shape=(latent_dim,))\n",
        "decoder_states_inputs = [decoder_state_input_h, decoder_state_input_c]\n",
        "decoder_lstm = model.layers[3]\n",
        "decoder_outputs, state_h_dec, state_c_dec = decoder_lstm(\n",
        "    decoder_inputs, initial_state=decoder_states_inputs\n",
        ")\n",
        "decoder_states = [state_h_dec, state_c_dec]\n",
        "decoder_dense = model.layers[4]\n",
        "decoder_outputs = decoder_dense(decoder_outputs)\n",
        "decoder_model = keras.Model(\n",
        "    [decoder_inputs] + decoder_states_inputs, [decoder_outputs] + decoder_states\n",
        ")"
      ]
    },
    {
      "cell_type": "code",
      "execution_count": null,
      "metadata": {
        "colab": {
          "background_save": true
        },
        "id": "ADOHYyLbyD48"
      },
      "outputs": [],
      "source": [
        "def decode_sequence(input_seq):\n",
        "    # Encode the input as state vectors.\n",
        "    states_value = encoder_model.predict(input_seq, verbose=0)\n",
        "\n",
        "    # Generate empty target sequence of length 1.\n",
        "    target_seq = np.zeros((1, 1, num_decoder_tokens))\n",
        "    # Populate the first character of target sequence with the start character.\n",
        "    target_seq[0, 0, target_token_index[\"\\t\"]] = 1.0\n",
        "\n",
        "    # Sampling loop for a batch of sequences\n",
        "    # (to simplify, here we assume a batch of size 1).\n",
        "    stop_condition = False\n",
        "    decoded_sentence = \"\"\n",
        "    while not stop_condition:\n",
        "        output_tokens, h, c = decoder_model.predict(\n",
        "            [target_seq] + states_value, verbose=0\n",
        "        )\n",
        "\n",
        "        # Sample a token\n",
        "        sampled_token_index = np.argmax(output_tokens[0, -1, :])\n",
        "        sampled_char = reverse_target_char_index[sampled_token_index]\n",
        "        decoded_sentence += sampled_char\n",
        "\n",
        "        # Exit condition: either hit max length\n",
        "        # or find stop character.\n",
        "        if sampled_char == \"\\n\" or len(decoded_sentence) > max_decoder_seq_length:\n",
        "            stop_condition = True\n",
        "\n",
        "        # Update the target sequence (of length 1).\n",
        "        target_seq = np.zeros((1, 1, num_decoder_tokens))\n",
        "        target_seq[0, 0, sampled_token_index] = 1.0\n",
        "\n",
        "        # Update states\n",
        "        states_value = [h, c]\n",
        "    return decoded_sentence"
      ]
    },
    {
      "cell_type": "code",
      "execution_count": null,
      "metadata": {
        "colab": {
          "background_save": true
        },
        "id": "rfTb5OqAnd0f"
      },
      "outputs": [],
      "source": [
        "def get_latex_pred(seq_index):\n",
        "    input_seq = encoder_input_data[seq_index : seq_index + 1]\n",
        "    decoded_sentence = decode_sequence(input_seq)\n",
        "    decoded_sentence = decoded_sentence.replace(\" \", \"\")\n",
        "    print(\"-\")\n",
        "    print(\"Input sentence:\", test_input_texts[seq_index])\n",
        "    print(\"Decoded sentence:\", decoded_sentence)"
      ]
    },
    {
      "cell_type": "code",
      "execution_count": null,
      "metadata": {
        "colab": {
          "background_save": true
        },
        "id": "aCo3iiFbs5To"
      },
      "outputs": [],
      "source": [
        "for i in range(5):\n",
        "  print(get_latex_pred(i))"
      ]
    },
    {
      "cell_type": "code",
      "execution_count": null,
      "metadata": {
        "colab": {
          "background_save": true
        },
        "id": "UId7RFAWzthA"
      },
      "outputs": [],
      "source": [
        "for i in range(5):\n",
        "  print(test_data['latex'].iloc[i])"
      ]
    }
  ],
  "metadata": {
    "accelerator": "GPU",
    "colab": {
      "collapsed_sections": [
        "Ji-I-y7Z01i1"
      ],
      "gpuType": "T4",
      "provenance": []
    },
    "kernelspec": {
      "display_name": "Python 3",
      "name": "python3"
    },
    "language_info": {
      "name": "python"
    }
  },
  "nbformat": 4,
  "nbformat_minor": 0
}